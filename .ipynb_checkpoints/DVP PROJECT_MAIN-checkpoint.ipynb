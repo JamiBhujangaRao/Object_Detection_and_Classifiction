{
 "cells": [
  {
   "cell_type": "code",
   "execution_count": 6,
   "id": "3c574b52",
   "metadata": {},
   "outputs": [
    {
     "name": "stdout",
     "output_type": "stream",
     "text": [
      "['perso', '\\nbicycle\\ncar\\nmotorbike\\naeropla', 'e\\nbus\\ntrai', '\\ntruck\\nboat\\ntraffic light\\nfire hydra', 't\\nstop sig', '\\nparki', 'g meter\\nbe', 'ch\\nbird\\ncat\\ndog\\nhorse\\nsheep\\ncow\\nelepha', 't\\nbear\\nzebra\\ngiraffe\\nbackpack\\numbrella\\nha', 'dbag\\ntie\\nsuitcase\\nfrisbee\\nskis\\ns', 'owboard\\nsports ball\\nkite\\nbaseball bat\\nbaseball glove\\nskateboard\\nsurfboard\\nte', '', 'is racket\\nbottle\\nwi', 'e glass\\ncup\\nfork\\nk', 'ife\\nspoo', '\\nbowl\\nba', 'a', 'a\\napple\\nsa', 'dwich\\nora', 'ge\\nbroccoli\\ncarrot\\nhot dog\\npizza\\ndo', 'ut\\ncake\\nchair\\nsofa\\npottedpla', 't\\nbed\\ndi', 'i', 'gtable\\ntoilet\\ntvmo', 'itor\\nlaptop\\nmouse\\nremote\\nkeyboard\\ncell pho', 'e\\nmicrowave\\nove', '\\ntoaster\\nsi', 'k\\nrefrigerator\\nbook\\nclock\\nvase\\nscissors\\nteddy bear\\nhair drier\\ntoothbrush']\n"
     ]
    },
    {
     "ename": "IndexError",
     "evalue": "list index out of range",
     "output_type": "error",
     "traceback": [
      "\u001b[1;31m---------------------------------------------------------------------------\u001b[0m",
      "\u001b[1;31mIndexError\u001b[0m                                Traceback (most recent call last)",
      "Input \u001b[1;32mIn [6]\u001b[0m, in \u001b[0;36m<cell line: 51>\u001b[1;34m()\u001b[0m\n\u001b[0;32m     55\u001b[0m outputNames \u001b[38;5;241m=\u001b[39m [(layersNames[i\u001b[38;5;241m-\u001b[39m\u001b[38;5;241m1\u001b[39m]) \u001b[38;5;28;01mfor\u001b[39;00m i \u001b[38;5;129;01min\u001b[39;00m net\u001b[38;5;241m.\u001b[39mgetUnconnectedOutLayers()]\n\u001b[0;32m     56\u001b[0m outputs \u001b[38;5;241m=\u001b[39m net\u001b[38;5;241m.\u001b[39mforward(outputNames)\n\u001b[1;32m---> 57\u001b[0m \u001b[43mfindObjects\u001b[49m\u001b[43m(\u001b[49m\u001b[43moutputs\u001b[49m\u001b[43m,\u001b[49m\u001b[43mimg\u001b[49m\u001b[43m)\u001b[49m\n\u001b[0;32m     59\u001b[0m cv\u001b[38;5;241m.\u001b[39mimshow(\u001b[38;5;124m'\u001b[39m\u001b[38;5;124mImage\u001b[39m\u001b[38;5;124m'\u001b[39m, img)\n\u001b[0;32m     60\u001b[0m cv\u001b[38;5;241m.\u001b[39mwaitKey(\u001b[38;5;241m1\u001b[39m)\n",
      "Input \u001b[1;32mIn [6]\u001b[0m, in \u001b[0;36mfindObjects\u001b[1;34m(outputs, img)\u001b[0m\n\u001b[0;32m     45\u001b[0m \u001b[38;5;66;03m# print(x,y,w,h)\u001b[39;00m\n\u001b[0;32m     46\u001b[0m cv\u001b[38;5;241m.\u001b[39mrectangle(img, (x, y), (x\u001b[38;5;241m+\u001b[39mw,y\u001b[38;5;241m+\u001b[39mh), (\u001b[38;5;241m255\u001b[39m, \u001b[38;5;241m0\u001b[39m , \u001b[38;5;241m255\u001b[39m), \u001b[38;5;241m2\u001b[39m)\n\u001b[1;32m---> 47\u001b[0m cv\u001b[38;5;241m.\u001b[39mputText(img,\u001b[38;5;124mf\u001b[39m\u001b[38;5;124m'\u001b[39m\u001b[38;5;132;01m{\u001b[39;00mclassNames[classIds[i]]\u001b[38;5;241m.\u001b[39mupper()\u001b[38;5;132;01m}\u001b[39;00m\u001b[38;5;124m \u001b[39m\u001b[38;5;132;01m{\u001b[39;00m\u001b[38;5;28mint\u001b[39m(confs[i]\u001b[38;5;241m*\u001b[39m\u001b[38;5;241m100\u001b[39m)\u001b[38;5;132;01m}\u001b[39;00m\u001b[38;5;124m%\u001b[39m\u001b[38;5;124m'\u001b[39m,\n\u001b[0;32m     48\u001b[0m           (x, y\u001b[38;5;241m-\u001b[39m\u001b[38;5;241m10\u001b[39m), cv\u001b[38;5;241m.\u001b[39mFONT_HERSHEY_SIMPLEX, \u001b[38;5;241m0.6\u001b[39m, (\u001b[38;5;241m255\u001b[39m, \u001b[38;5;241m0\u001b[39m, \u001b[38;5;241m255\u001b[39m), \u001b[38;5;241m2\u001b[39m)\n",
      "\u001b[1;31mIndexError\u001b[0m: list index out of range"
     ]
    }
   ],
   "source": [
    "import cv2 as cv\n",
    "import numpy as np\n",
    "\n",
    "cap = cv.VideoCapture(0)\n",
    "whT = 320\n",
    "confThreshold =0.5\n",
    "nmsThreshold= 0.2\n",
    "\n",
    "#### LOAD MODEL\n",
    "## Coco Names\n",
    "classesFile = \"D:/ALL STUDY METERIALS/DVP_project/coco.names\"\n",
    "classNames = []\n",
    "with open(classesFile, 'rt') as f:\n",
    "    classNames = f.read().rstrip('n').split('n')\n",
    "print(classNames)\n",
    "## Model Files\n",
    "modelConfiguration = \"D:/ALL STUDY METERIALS/DVP_project/yolov3.cfg\"\n",
    "modelWeights = \"D:/ALL STUDY METERIALS/DVP_project/yolov3.weights\"\n",
    "net = cv.dnn.readNetFromDarknet(modelConfiguration, modelWeights)\n",
    "net.setPreferableBackend(cv.dnn.DNN_BACKEND_OPENCV)\n",
    "net.setPreferableTarget(cv.dnn.DNN_TARGET_CPU)\n",
    "\n",
    "def findObjects(outputs,img):\n",
    "    hT, wT, cT = img.shape\n",
    "    bbox = []\n",
    "    classIds = []\n",
    "    confs = []\n",
    "    for output in outputs:\n",
    "        for det in output:\n",
    "            scores = det[5:]\n",
    "            classId = np.argmax(scores)\n",
    "            confidence = scores[classId]\n",
    "            if confidence > confThreshold:\n",
    "                w,h = int(det[2]*wT) , int(det[3]*hT)\n",
    "                x,y = int((det[0]*wT)-w/2) , int((det[1]*hT)-h/2)\n",
    "                bbox.append([x,y,w,h])\n",
    "                classIds.append(classId)\n",
    "                confs.append(float(confidence))\n",
    "    indices = cv.dnn.NMSBoxes(bbox, confs, confThreshold, nmsThreshold)\n",
    "\n",
    "    for i in indices:\n",
    "        i = i\n",
    "        box = bbox[i]\n",
    "        x, y, w, h = box[0], box[1], box[2], box[3]\n",
    "        # print(x,y,w,h)\n",
    "        cv.rectangle(img, (x, y), (x+w,y+h), (255, 0 , 255), 2)\n",
    "        cv.putText(img,f'{classNames[classIds[i]].upper()} {int(confs[i]*100)}%',\n",
    "                  (x, y-10), cv.FONT_HERSHEY_SIMPLEX, 0.6, (255, 0, 255), 2)\n",
    "\n",
    "while True:\n",
    "    success, img = cap.read()\n",
    "    blob = cv.dnn.blobFromImage(img, 1 / 255, (whT, whT), [0, 0, 0], 1, crop=False)\n",
    "    net.setInput(blob)\n",
    "    layersNames = net.getLayerNames()\n",
    "    outputNames = [(layersNames[i-1]) for i in net.getUnconnectedOutLayers()]\n",
    "    outputs = net.forward(outputNames)\n",
    "    findObjects(outputs,img)\n",
    "\n",
    "    cv.imshow('Image', img)\n",
    "    cv.waitKey(1)"
   ]
  },
  {
   "cell_type": "code",
   "execution_count": null,
   "id": "fd95a4fe",
   "metadata": {},
   "outputs": [],
   "source": []
  }
 ],
 "metadata": {
  "kernelspec": {
   "display_name": "Python 3 (ipykernel)",
   "language": "python",
   "name": "python3"
  },
  "language_info": {
   "codemirror_mode": {
    "name": "ipython",
    "version": 3
   },
   "file_extension": ".py",
   "mimetype": "text/x-python",
   "name": "python",
   "nbconvert_exporter": "python",
   "pygments_lexer": "ipython3",
   "version": "3.9.12"
  }
 },
 "nbformat": 4,
 "nbformat_minor": 5
}
