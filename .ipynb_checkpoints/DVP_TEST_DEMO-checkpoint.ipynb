{
 "cells": [
  {
   "cell_type": "code",
   "execution_count": 1,
   "id": "21a84739",
   "metadata": {},
   "outputs": [
    {
     "ename": "SystemError",
     "evalue": "<class 'cv2.dnn.DetectionModel'> returned a result with an error set",
     "output_type": "error",
     "traceback": [
      "\u001b[1;31m---------------------------------------------------------------------------\u001b[0m",
      "\u001b[1;31merror\u001b[0m                                     Traceback (most recent call last)",
      "\u001b[1;31merror\u001b[0m: OpenCV(4.6.0) D:\\a\\opencv-python\\opencv-python\\opencv\\modules\\dnn\\src\\tensorflow\\tf_importer.cpp:2832: error: (-2:Unspecified error) Const input blob for weights not found in function 'cv::dnn::dnn4_v20220524::`anonymous-namespace'::TFImporter::getConstBlob'\n",
      "\nThe above exception was the direct cause of the following exception:\n",
      "\u001b[1;31mSystemError\u001b[0m                               Traceback (most recent call last)",
      "Input \u001b[1;32mIn [1]\u001b[0m, in \u001b[0;36m<cell line: 12>\u001b[1;34m()\u001b[0m\n\u001b[0;32m     16\u001b[0m configPath \u001b[38;5;241m=\u001b[39m \u001b[38;5;124m\"\u001b[39m\u001b[38;5;124mC:/Users/jamib/DVP_PROJECT/ssd_mobilenet_v3_large_coco_2020_01_14.pbtxt\u001b[39m\u001b[38;5;124m\"\u001b[39m\n\u001b[0;32m     17\u001b[0m weightsPath \u001b[38;5;241m=\u001b[39m \u001b[38;5;124m\"\u001b[39m\u001b[38;5;124mC:/Users/jamib/Downloads/frozen_inference_graph.pb\u001b[39m\u001b[38;5;124m\"\u001b[39m\n\u001b[1;32m---> 19\u001b[0m net \u001b[38;5;241m=\u001b[39m \u001b[43mcv2\u001b[49m\u001b[38;5;241;43m.\u001b[39;49m\u001b[43mdnn_DetectionModel\u001b[49m\u001b[43m(\u001b[49m\u001b[43mweightsPath\u001b[49m\u001b[43m,\u001b[49m\u001b[43mconfigPath\u001b[49m\u001b[43m)\u001b[49m\n\u001b[0;32m     20\u001b[0m net\u001b[38;5;241m.\u001b[39msetInputSize(\u001b[38;5;241m320\u001b[39m,\u001b[38;5;241m320\u001b[39m)\n\u001b[0;32m     21\u001b[0m net\u001b[38;5;241m.\u001b[39msetInputScale(\u001b[38;5;241m1.0\u001b[39m\u001b[38;5;241m/\u001b[39m \u001b[38;5;241m127.5\u001b[39m)\n",
      "\u001b[1;31mSystemError\u001b[0m: <class 'cv2.dnn.DetectionModel'> returned a result with an error set"
     ]
    }
   ],
   "source": [
    "import cv2\n",
    "import numpy as np\n",
    "thres = 0.45 # Threshold to detect object\n",
    "nms_threshold = 0.2\n",
    "cap = cv2.VideoCapture(0)\n",
    "# cap.set(3,1280)\n",
    "# cap.set(4,720)\n",
    "# cap.set(10,150)\n",
    "\n",
    "classNames= []\n",
    "classFile = \"C:/Users/jamib/DVP_PROJECT/coco.names\"\n",
    "with open(classFile,'rt') as f:\n",
    "    classNames = f.read().rstrip(\"n\").split(\"\\n\")\n",
    "\n",
    "    #print(classNames)\n",
    "    configPath = \"C:/Users/jamib/DVP_PROJECT/ssd_mobilenet_v3_large_coco_2020_01_14.pbtxt\"\n",
    "    weightsPath = \"C:/Users/jamib/Downloads/frozen_inference_graph.pb\"\n",
    "\n",
    "    net = cv2.dnn_DetectionModel(weightsPath,configPath)\n",
    "    net.setInputSize(320,320)\n",
    "    net.setInputScale(1.0/ 127.5)\n",
    "    net.setInputMean((127.5, 127.5, 127.5))\n",
    "    net.setInputSwapRB(True)\n",
    "\n",
    "while True:\n",
    "    success,img = cap.read()\n",
    "    classIds, confs, bbox = net.detect(img,confThreshold=thres)\n",
    "    bbox = list(bbox)\n",
    "    confs = list(np.array(confs).reshape(1,-1)[0])\n",
    "    confs = list(map(float,confs))\n",
    "    #print(type(confs[0]))\n",
    "    #print(confs)\n",
    "    indices = cv2.dnn.NMSBoxes(bbox,confs,thres,nms_threshold)\n",
    "    #print(indices)\n",
    "\n",
    "    for i in indices:\n",
    "        i = i-1\n",
    "        box = bbox[i]\n",
    "        x,y,w,h = box[0],box[1],box[2],box[3]\n",
    "        cv2.rectangle(img, (x,y),(x+w,h+y), color=(0, 255, 0), thickness=2)\n",
    "        cv2.putText(img,classNames[classIds[i]-1].upper(),(box[0]+10,box[1]+30),\n",
    "        cv2.FONT_HERSHEY_COMPLEX,1,(0,255,0),2)\n",
    "\n",
    "    cv2.imshow(\"Output\",img)\n",
    "    cv2.waitKey(1)"
   ]
  },
  {
   "cell_type": "code",
   "execution_count": null,
   "id": "1abe2490",
   "metadata": {},
   "outputs": [],
   "source": []
  }
 ],
 "metadata": {
  "kernelspec": {
   "display_name": "Python 3 (ipykernel)",
   "language": "python",
   "name": "python3"
  },
  "language_info": {
   "codemirror_mode": {
    "name": "ipython",
    "version": 3
   },
   "file_extension": ".py",
   "mimetype": "text/x-python",
   "name": "python",
   "nbconvert_exporter": "python",
   "pygments_lexer": "ipython3",
   "version": "3.9.12"
  }
 },
 "nbformat": 4,
 "nbformat_minor": 5
}
