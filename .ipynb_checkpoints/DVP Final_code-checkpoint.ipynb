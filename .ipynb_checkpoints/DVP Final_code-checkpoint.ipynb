{
 "cells": [
  {
   "cell_type": "code",
   "execution_count": null,
   "id": "631a15c1",
   "metadata": {},
   "outputs": [],
   "source": [
    "import cv2\n",
    "thres = 0.45 # Threshold to detect object\n",
    "\n",
    "cap = cv2.VideoCapture(1)\n",
    "cap.set(3,1280)\n",
    "cap.set(4,720)\n",
    "cap.set(10,70)\n",
    "\n",
    "classNames= []\n",
    "classFile = \"D:/ALL STUDY METERIALS/DVP_project/coco.names\"\n",
    "with open(classFile,'rt') as f:\n",
    "classNames = f.read().rstrip('n').split('n')\n",
    "\n",
    "configPath = \"C:/Users/jamib/DVP_PROJECT/ssd_mobilenet_v3_large_coco_2020_01_14.pbtxt\"\n",
    "weightsPath = \"C:/Users/jamib/DVP_PROJECT/frozen_inference_graph.pb\"\n",
    "\n",
    "net = cv2.dnn_DetectionModel(weightsPath,configPath)\n",
    "net.setInputSize(320,320)\n",
    "net.setInputScale(1.0/ 127.5)\n",
    "net.setInputMean((127.5, 127.5, 127.5))\n",
    "net.setInputSwapRB(True)\n",
    "\n",
    "while True:\n",
    "    success,img = cap.read()\n",
    "    classIds, confs, bbox = net.detect(img,confThreshold=thres)\n",
    "    print(classIds,bbox)\n",
    "\n",
    "    if len(classIds) != 0:\n",
    "        for classId, confidence,box in zip(classIds.flatten(),confs.flatten(),bbox):\n",
    "            cv2.rectangle(img,box,color=(0,255,0),thickness=2)\n",
    "            cv2.putText(img,classNames[classId-1].upper(),(box[0]+10,box[1]+30),\n",
    "            cv2.FONT_HERSHEY_COMPLEX,1,(0,255,0),2)\n",
    "            cv2.putText(img,str(round(confidence*100,2)),(box[0]+200,box[1]+30),\n",
    "            cv2.FONT_HERSHEY_COMPLEX,1,(0,255,0),2)\n",
    "\n",
    "    cv2.imshow(\"Output\",img)\n",
    "    cv2.waitKey(1)"
   ]
  },
  {
   "cell_type": "code",
   "execution_count": 4,
   "id": "d1222eb0",
   "metadata": {},
   "outputs": [
    {
     "ename": "IndexError",
     "evalue": "invalid index to scalar variable.",
     "output_type": "error",
     "traceback": [
      "\u001b[1;31m---------------------------------------------------------------------------\u001b[0m",
      "\u001b[1;31mIndexError\u001b[0m                                Traceback (most recent call last)",
      "Input \u001b[1;32mIn [4]\u001b[0m, in \u001b[0;36m<cell line: 26>\u001b[1;34m()\u001b[0m\n\u001b[0;32m     40\u001b[0m     x,y,w,h \u001b[38;5;241m=\u001b[39m box[\u001b[38;5;241m0\u001b[39m],box[\u001b[38;5;241m1\u001b[39m],box[\u001b[38;5;241m2\u001b[39m],box[\u001b[38;5;241m3\u001b[39m]\n\u001b[0;32m     41\u001b[0m     cv2\u001b[38;5;241m.\u001b[39mrectangle(img, (x,y),(x\u001b[38;5;241m+\u001b[39mw,h\u001b[38;5;241m+\u001b[39my), color\u001b[38;5;241m=\u001b[39m(\u001b[38;5;241m0\u001b[39m, \u001b[38;5;241m255\u001b[39m, \u001b[38;5;241m0\u001b[39m), thickness\u001b[38;5;241m=\u001b[39m\u001b[38;5;241m2\u001b[39m)\n\u001b[1;32m---> 42\u001b[0m     cv2\u001b[38;5;241m.\u001b[39mputText(img,classNames[\u001b[43mclassIds\u001b[49m\u001b[43m[\u001b[49m\u001b[38;5;241;43m0\u001b[39;49m\u001b[43m]\u001b[49m\u001b[43m[\u001b[49m\u001b[43mi\u001b[49m\u001b[38;5;241;43m-\u001b[39;49m\u001b[38;5;241;43m1\u001b[39;49m\u001b[43m]\u001b[49m]\u001b[38;5;241m.\u001b[39mupper(),(box[\u001b[38;5;241m0\u001b[39m]\u001b[38;5;241m+\u001b[39m\u001b[38;5;241m10\u001b[39m,box[\u001b[38;5;241m1\u001b[39m]\u001b[38;5;241m+\u001b[39m\u001b[38;5;241m30\u001b[39m),\n\u001b[0;32m     43\u001b[0m     cv2\u001b[38;5;241m.\u001b[39mFONT_HERSHEY_COMPLEX,\u001b[38;5;241m1\u001b[39m,(\u001b[38;5;241m0\u001b[39m,\u001b[38;5;241m255\u001b[39m,\u001b[38;5;241m0\u001b[39m),\u001b[38;5;241m2\u001b[39m)\n\u001b[0;32m     45\u001b[0m cv2\u001b[38;5;241m.\u001b[39mimshow(\u001b[38;5;124m\"\u001b[39m\u001b[38;5;124mOutput\u001b[39m\u001b[38;5;124m\"\u001b[39m,img)\n\u001b[0;32m     46\u001b[0m cv2\u001b[38;5;241m.\u001b[39mwaitKey(\u001b[38;5;241m1\u001b[39m)\n",
      "\u001b[1;31mIndexError\u001b[0m: invalid index to scalar variable."
     ]
    }
   ],
   "source": [
    "import cv2\n",
    "import numpy as np\n",
    "thres = 0.45 # Threshold to detect object\n",
    "nms_threshold = 0.2\n",
    "cap = cv2.VideoCapture(0)\n",
    "# cap.set(3,1280)\n",
    "# cap.set(4,720)\n",
    "# cap.set(10,150)\n",
    "\n",
    "classNames= []\n",
    "classFile = \"D:/ALL STUDY METERIALS/DVP_project/coco.names\"\n",
    "with open(classFile,\"rt\") as f:\n",
    "    classNames = f.read().rstrip(\"n\").split(\"\\n\")\n",
    "\n",
    "#print(classNames)\n",
    "configPath = \"C:/Users/jamib/DVP_PROJECT/ssd_mobilenet_v3_large_coco_2020_01_14.pbtxt\"\n",
    "weightsPath = \"C:/Users/jamib/DVP_PROJECT/frozen_inference_graph.pb\"\n",
    "\n",
    "net = cv2.dnn_DetectionModel(weightsPath,configPath)\n",
    "net.setInputSize(320,320)\n",
    "net.setInputScale(1.0/ 127.5)\n",
    "net.setInputMean((127.5, 127.5, 127.5))\n",
    "net.setInputSwapRB(True)\n",
    "\n",
    "while True:\n",
    "    success,img = cap.read()\n",
    "    classIds, confs, bbox = net.detect(img,confThreshold=thres)\n",
    "    bbox = list(bbox)\n",
    "    confs = list(np.array(confs).reshape(1,-1)[0])\n",
    "    confs = list(map(float,confs))\n",
    "    #print(type(confs[0]))\n",
    "    #print(confs)\n",
    "\n",
    "    indices = cv2.dnn.NMSBoxes(bbox,confs,thres,nms_threshold)\n",
    "    #print(indices)\n",
    "\n",
    "    for i in indices:\n",
    "        i = indices[0]\n",
    "        box = bbox[i]\n",
    "        x,y,w,h = box[0],box[1],box[2],box[3]\n",
    "        cv2.rectangle(img, (x,y),(x+w,h+y), color=(0, 255, 0), thickness=2)\n",
    "        cv2.putText(img,classNames[classIds[0][i-1]].upper(),(box[0]+10,box[1]+30),\n",
    "        cv2.FONT_HERSHEY_COMPLEX,1,(0,255,0),2)\n",
    "\n",
    "    cv2.imshow(\"Output\",img)\n",
    "    cv2.waitKey(1)"
   ]
  }
 ],
 "metadata": {
  "kernelspec": {
   "display_name": "Python 3 (ipykernel)",
   "language": "python",
   "name": "python3"
  },
  "language_info": {
   "codemirror_mode": {
    "name": "ipython",
    "version": 3
   },
   "file_extension": ".py",
   "mimetype": "text/x-python",
   "name": "python",
   "nbconvert_exporter": "python",
   "pygments_lexer": "ipython3",
   "version": "3.9.12"
  }
 },
 "nbformat": 4,
 "nbformat_minor": 5
}
